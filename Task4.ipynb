{
  "nbformat": 4,
  "nbformat_minor": 0,
  "metadata": {
    "colab": {
      "provenance": [],
      "authorship_tag": "ABX9TyPb1+LlQfJLH2c2LauR455L",
      "include_colab_link": true
    },
    "kernelspec": {
      "name": "python3",
      "display_name": "Python 3"
    },
    "language_info": {
      "name": "python"
    }
  },
  "cells": [
    {
      "cell_type": "markdown",
      "metadata": {
        "id": "view-in-github",
        "colab_type": "text"
      },
      "source": [
        "<a href=\"https://colab.research.google.com/github/satyamadhavarapu/Quantum-Machine-Learning/blob/main/Task4.ipynb\" target=\"_parent\"><img src=\"https://colab.research.google.com/assets/colab-badge.svg\" alt=\"Open In Colab\"/></a>"
      ]
    },
    {
      "cell_type": "code",
      "execution_count": 5,
      "metadata": {
        "colab": {
          "base_uri": "https://localhost:8080/"
        },
        "id": "1qXDjhZe-Tf4",
        "outputId": "55e1083c-f536-451b-fc9c-a0b8bfe8246d"
      },
      "outputs": [
        {
          "output_type": "stream",
          "name": "stdout",
          "text": [
            "\n",
            "==================================================\n",
            "TASK 4: COMMUTATION RELATIONS AND EULER ANGLES\n",
            "==================================================\n",
            "Commutation relations:\n",
            "[σₓ, σᵧ] = [[0.+2.j 0.+0.j]\n",
            " [0.+0.j 0.-2.j]]\n",
            "[σᵧ, σ_z] = [[0.+0.j 0.+2.j]\n",
            " [0.+2.j 0.+0.j]]\n",
            "[σ_z, σₓ] = [[ 0  2]\n",
            " [-2  0]]\n",
            "\n",
            "Anticommutation relations:\n",
            "{σₓ, σᵧ} = [[0.+0.j 0.+0.j]\n",
            " [0.+0.j 0.+0.j]]\n",
            "{σₓ, σₓ} = [[2 0]\n",
            " [0 2]]\n",
            "\n",
            "Hadamard gate:\n",
            "[[ 0.70710678  0.70710678]\n",
            " [ 0.70710678 -0.70710678]]\n",
            "Euler decomposition:\n",
            "[[ 4.32978028e-17-7.07106781e-01j  7.07106781e-01-4.32978028e-17j]\n",
            " [-7.07106781e-01-4.32978028e-17j  4.32978028e-17+7.07106781e-01j]]\n",
            "Difference: 1.4142135624\n"
          ]
        }
      ],
      "source": [
        "import numpy as np\n",
        "\n",
        "print(\"\\n\" + \"=\"*50)\n",
        "print(\"TASK 4: COMMUTATION RELATIONS AND EULER ANGLES\")\n",
        "print(\"=\"*50)\n",
        "\n",
        "pauli_x = np.array([[0, 1], [1, 0]])\n",
        "pauli_y = np.array([[0, -1j], [1j, 0]])\n",
        "pauli_z = np.array([[1, 0], [0, -1]])\n",
        "\n",
        "def commutator(A, B):\n",
        "    return A @ B - B @ A\n",
        "\n",
        "def anticommutator(A, B):\n",
        "    return A @ B + B @ A\n",
        "\n",
        "print(\"Commutation relations:\")\n",
        "print(\"[σₓ, σᵧ] =\", commutator(pauli_x, pauli_y))\n",
        "print(\"[σᵧ, σ_z] =\", commutator(pauli_y, pauli_z))\n",
        "print(\"[σ_z, σₓ] =\", commutator(pauli_z, pauli_x))\n",
        "\n",
        "print(\"\\nAnticommutation relations:\")\n",
        "print(\"{σₓ, σᵧ} =\", anticommutator(pauli_x, pauli_y))\n",
        "print(\"{σₓ, σₓ} =\", anticommutator(pauli_x, pauli_x))\n",
        "\n",
        "def euler_decomposition(theta, phi, lam):\n",
        "    return (np.cos(theta/2) * np.eye(2) -\n",
        "            1j * np.sin(theta/2) * (np.cos(phi) * pauli_x +\n",
        "                                   np.sin(phi) * pauli_y)) @ \\\n",
        "           np.array([[np.exp(-1j*lam/2), 0], [0, np.exp(1j*lam/2)]])\n",
        "\n",
        "hadamard = np.array([[1, 1], [1, -1]]) / np.sqrt(2)\n",
        "euler_h = euler_decomposition(np.pi/2, 0, np.pi)\n",
        "\n",
        "print(f\"\\nHadamard gate:\\n{hadamard}\")\n",
        "print(f\"Euler decomposition:\\n{euler_h}\")\n",
        "print(f\"Difference: {np.max(np.abs(hadamard - euler_h)):.10f}\")\n"
      ]
    }
  ]
}