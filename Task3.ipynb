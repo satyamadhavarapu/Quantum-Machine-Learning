{
  "nbformat": 4,
  "nbformat_minor": 0,
  "metadata": {
    "colab": {
      "provenance": [],
      "authorship_tag": "ABX9TyNSureceAVNI+j0+V+OkxA4",
      "include_colab_link": true
    },
    "kernelspec": {
      "name": "python3",
      "display_name": "Python 3"
    },
    "language_info": {
      "name": "python"
    }
  },
  "cells": [
    {
      "cell_type": "markdown",
      "metadata": {
        "id": "view-in-github",
        "colab_type": "text"
      },
      "source": [
        "<a href=\"https://colab.research.google.com/github/satyamadhavarapu/Quantum-Machine-Learning/blob/main/Task3.ipynb\" target=\"_parent\"><img src=\"https://colab.research.google.com/assets/colab-badge.svg\" alt=\"Open In Colab\"/></a>"
      ]
    },
    {
      "cell_type": "code",
      "execution_count": 4,
      "metadata": {
        "colab": {
          "base_uri": "https://localhost:8080/"
        },
        "id": "1qXDjhZe-Tf4",
        "outputId": "8992cae7-297d-4f57-b71b-bcfea4813a88"
      },
      "outputs": [
        {
          "output_type": "stream",
          "name": "stdout",
          "text": [
            "\n",
            "==================================================\n",
            "TASK 3: BELL STATES AND ENTANGLEMENT ENTROPY\n",
            "==================================================\n",
            "Bell state |Φ⁺⟩ = [0.70710678 0.         0.         0.70710678]\n",
            "Bell state |Φ⁻⟩ = [ 0.70710678  0.          0.         -0.70710678]\n",
            "\n",
            "Entanglement entropy of |Φ⁺⟩: 1.000\n",
            "Entanglement entropy of |Φ⁻⟩: 1.000\n",
            "Entanglement entropy of |00⟩: -0.000\n"
          ]
        }
      ],
      "source": [
        "import numpy as np\n",
        "\n",
        "print(\"\\n\" + \"=\"*50)\n",
        "print(\"TASK 3: BELL STATES AND ENTANGLEMENT ENTROPY\")\n",
        "print(\"=\"*50)\n",
        "\n",
        "def tensor_product(a, b):\n",
        "    return np.kron(a, b)\n",
        "\n",
        "qubit_0 = np.array([1, 0])\n",
        "qubit_1 = np.array([0, 1])\n",
        "\n",
        "bell_00 = (tensor_product(qubit_0, qubit_0) + tensor_product(qubit_1, qubit_1)) / np.sqrt(2)\n",
        "bell_01 = (tensor_product(qubit_0, qubit_1) + tensor_product(qubit_1, qubit_0)) / np.sqrt(2)\n",
        "bell_10 = (tensor_product(qubit_0, qubit_0) - tensor_product(qubit_1, qubit_1)) / np.sqrt(2)\n",
        "bell_11 = (tensor_product(qubit_0, qubit_1) - tensor_product(qubit_1, qubit_0)) / np.sqrt(2)\n",
        "\n",
        "print(\"Bell state |Φ⁺⟩ =\", bell_00)\n",
        "print(\"Bell state |Φ⁻⟩ =\", bell_10)\n",
        "\n",
        "def entanglement_entropy(state):\n",
        "    psi_matrix = state.reshape(2, 2)\n",
        "    rho_a = psi_matrix @ psi_matrix.conj().T\n",
        "    eigenvals = np.linalg.eigvals(rho_a)\n",
        "    eigenvals = eigenvals[eigenvals > 1e-10]\n",
        "    entropy = -np.sum(eigenvals * np.log2(eigenvals))\n",
        "    return entropy\n",
        "\n",
        "print(f\"\\nEntanglement entropy of |Φ⁺⟩: {entanglement_entropy(bell_00):.3f}\")\n",
        "print(f\"Entanglement entropy of |Φ⁻⟩: {entanglement_entropy(bell_10):.3f}\")\n",
        "\n",
        "separable = tensor_product(qubit_0, qubit_0)\n",
        "print(f\"Entanglement entropy of |00⟩: {entanglement_entropy(separable):.3f}\")\n"
      ]
    }
  ]
}