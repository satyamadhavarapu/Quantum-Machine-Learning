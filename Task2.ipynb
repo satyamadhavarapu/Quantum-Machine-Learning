{
  "nbformat": 4,
  "nbformat_minor": 0,
  "metadata": {
    "colab": {
      "provenance": [],
      "authorship_tag": "ABX9TyPoCLYK5CxsaWwBI9EZmGIX",
      "include_colab_link": true
    },
    "kernelspec": {
      "name": "python3",
      "display_name": "Python 3"
    },
    "language_info": {
      "name": "python"
    }
  },
  "cells": [
    {
      "cell_type": "markdown",
      "metadata": {
        "id": "view-in-github",
        "colab_type": "text"
      },
      "source": [
        "<a href=\"https://colab.research.google.com/github/satyamadhavarapu/Quantum-Machine-Learning/blob/main/Task2.ipynb\" target=\"_parent\"><img src=\"https://colab.research.google.com/assets/colab-badge.svg\" alt=\"Open In Colab\"/></a>"
      ]
    },
    {
      "cell_type": "code",
      "execution_count": 3,
      "metadata": {
        "colab": {
          "base_uri": "https://localhost:8080/"
        },
        "id": "1qXDjhZe-Tf4",
        "outputId": "57c1feff-ee49-4030-ccea-fc471859eadd"
      },
      "outputs": [
        {
          "output_type": "stream",
          "name": "stdout",
          "text": [
            "\n",
            "==================================================\n",
            "TASK 2: PAULI MATRICES AND EIGEN-ANALYSIS\n",
            "==================================================\n",
            "Pauli-X matrix:\n",
            "[[0 1]\n",
            " [1 0]]\n",
            "\n",
            "Pauli-Y matrix:\n",
            "[[ 0.+0.j -0.-1.j]\n",
            " [ 0.+1.j  0.+0.j]]\n",
            "\n",
            "Pauli-Z matrix:\n",
            "[[ 1  0]\n",
            " [ 0 -1]]\n",
            "\n",
            "Applying Pauli-X to |0⟩: [0 1]\n",
            "Applying Pauli-X to |1⟩: [1 0]\n",
            "\n",
            "Pauli-X Eigenvalues: [ 1. -1.]\n",
            "Pauli-X Eigenvectors:\n",
            "  λ=1.0: [0.70710678 0.70710678]\n",
            "  λ=-1.0: [-0.70710678  0.70710678]\n",
            "\n",
            "Pauli-Y Eigenvalues: [ 1.+0.j -1.+0.j]\n",
            "Pauli-Y Eigenvectors:\n",
            "  λ=(0.9999999999999996+0j): [-0.        -0.70710678j  0.70710678+0.j        ]\n",
            "  λ=(-0.9999999999999999+0j): [0.70710678+0.j         0.        -0.70710678j]\n",
            "\n",
            "Pauli-Z Eigenvalues: [ 1. -1.]\n",
            "Pauli-Z Eigenvectors:\n",
            "  λ=1.0: [1. 0.]\n",
            "  λ=-1.0: [0. 1.]\n"
          ]
        }
      ],
      "source": [
        "import numpy as np\n",
        "from numpy.linalg import eig\n",
        "\n",
        "print(\"\\n\" + \"=\"*50)\n",
        "print(\"TASK 2: PAULI MATRICES AND EIGEN-ANALYSIS\")\n",
        "print(\"=\"*50)\n",
        "\n",
        "pauli_x = np.array([[0, 1], [1, 0]])\n",
        "pauli_y = np.array([[0, -1j], [1j, 0]])\n",
        "pauli_z = np.array([[1, 0], [0, -1]])\n",
        "\n",
        "print(\"Pauli-X matrix:\")\n",
        "print(pauli_x)\n",
        "print(\"\\nPauli-Y matrix:\")\n",
        "print(pauli_y)\n",
        "print(\"\\nPauli-Z matrix:\")\n",
        "print(pauli_z)\n",
        "\n",
        "qubit_0 = np.array([1, 0])\n",
        "qubit_1 = np.array([0, 1])\n",
        "\n",
        "print(\"\\nApplying Pauli-X to |0⟩:\", pauli_x @ qubit_0)\n",
        "print(\"Applying Pauli-X to |1⟩:\", pauli_x @ qubit_1)\n",
        "\n",
        "def analyze_operator(matrix, name):\n",
        "    eigenvals, eigenvecs = eig(matrix)\n",
        "    print(f\"\\n{name} Eigenvalues:\", eigenvals)\n",
        "    print(f\"{name} Eigenvectors:\")\n",
        "    for i, vec in enumerate(eigenvecs.T):\n",
        "        print(f\"  λ={eigenvals[i]}: {vec}\")\n",
        "\n",
        "analyze_operator(pauli_x, \"Pauli-X\")\n",
        "analyze_operator(pauli_y, \"Pauli-Y\")\n",
        "analyze_operator(pauli_z, \"Pauli-Z\")\n"
      ]
    }
  ]
}