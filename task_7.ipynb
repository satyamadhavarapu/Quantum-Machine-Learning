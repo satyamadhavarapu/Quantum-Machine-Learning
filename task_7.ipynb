{
  "nbformat": 4,
  "nbformat_minor": 0,
  "metadata": {
    "colab": {
      "provenance": [],
      "authorship_tag": "ABX9TyNcgyNFD3ErXwdmFx3KKAw1",
      "include_colab_link": true
    },
    "kernelspec": {
      "name": "python3",
      "display_name": "Python 3"
    },
    "language_info": {
      "name": "python"
    }
  },
  "cells": [
    {
      "cell_type": "markdown",
      "metadata": {
        "id": "view-in-github",
        "colab_type": "text"
      },
      "source": [
        "<a href=\"https://colab.research.google.com/github/satyamadhavarapu/Quantum-Machine-Learning/blob/main/task_7.ipynb\" target=\"_parent\"><img src=\"https://colab.research.google.com/assets/colab-badge.svg\" alt=\"Open In Colab\"/></a>"
      ]
    },
    {
      "cell_type": "code",
      "execution_count": 1,
      "metadata": {
        "colab": {
          "base_uri": "https://localhost:8080/"
        },
        "id": "2yaQV30EUdLY",
        "outputId": "80d4db3f-f38e-4b0c-901c-54081e64605b"
      },
      "outputs": [
        {
          "output_type": "stream",
          "name": "stdout",
          "text": [
            "\n",
            "==================================================\n",
            "TASK 7: GROVER'S ORACLE (2-QUBIT)\n",
            "==================================================\n",
            "Oracle marking |00⟩:\n",
            "[[-1.  0.  0.  0.]\n",
            " [ 0.  1.  0.  0.]\n",
            " [ 0.  0.  1.  0.]\n",
            " [ 0.  0.  0.  1.]]\n",
            "\n",
            "Oracle marking |11⟩:\n",
            "[[ 1.  0.  0.  0.]\n",
            " [ 0.  1.  0.  0.]\n",
            " [ 0.  0.  1.  0.]\n",
            " [ 0.  0.  0. -1.]]\n",
            "\n",
            "Uniform superposition: [0.5 0.5 0.5 0.5]\n",
            "After oracle (|11⟩ marked): [ 0.5  0.5  0.5 -0.5]\n"
          ]
        }
      ],
      "source": [
        "import numpy as np\n",
        "\n",
        "print(\"\\n\" + \"=\"*50)\n",
        "print(\"TASK 7: GROVER'S ORACLE (2-QUBIT)\")\n",
        "print(\"=\"*50)\n",
        "\n",
        "def grover_oracle_2qubit(marked_state=3):\n",
        "    oracle = np.eye(4)\n",
        "    oracle[marked_state, marked_state] = -1\n",
        "    return oracle\n",
        "\n",
        "oracle_0 = grover_oracle_2qubit(0)\n",
        "oracle_3 = grover_oracle_2qubit(3)\n",
        "\n",
        "print(\"Oracle marking |00⟩:\")\n",
        "print(oracle_0)\n",
        "print(\"\\nOracle marking |11⟩:\")\n",
        "print(oracle_3)\n",
        "\n",
        "uniform_superposition = np.ones(4) / 2\n",
        "\n",
        "print(f\"\\nUniform superposition: {uniform_superposition}\")\n",
        "print(f\"After oracle (|11⟩ marked): {oracle_3 @ uniform_superposition}\")\n"
      ]
    }
  ]
}